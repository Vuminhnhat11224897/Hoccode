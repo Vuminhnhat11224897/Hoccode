{
 "cells": [
  {
   "cell_type": "code",
   "execution_count": 17,
   "id": "e8666ff4",
   "metadata": {},
   "outputs": [
    {
     "name": "stdout",
     "output_type": "stream",
     "text": [
      "3\n",
      "000\n",
      "\n",
      "001\n",
      "\n",
      "010\n",
      "\n",
      "011\n",
      "\n",
      "100\n",
      "\n",
      "101\n",
      "\n",
      "110\n",
      "\n",
      "111\n",
      "\n"
     ]
    }
   ],
   "source": [
    "from array import*\n",
    "n = int(input())\n",
    "a = array('i', [])\n",
    "for j in range(n):\n",
    "    a.append(0)\n",
    "i = n - 1\n",
    "while i != -1:\n",
    "    for j in range (n):\n",
    "        print(a[j], end = '')\n",
    "    i = n - 1\n",
    "    print('\\n')\n",
    "    while i > -1 and a[i] == 1: i = i - 1\n",
    "    if i > -1:\n",
    "        a[i] = 1\n",
    "        for j in range (i + 1, n): a[j] = 0"
   ]
  },
  {
   "cell_type": "code",
   "execution_count": null,
   "id": "77fcc7c1",
   "metadata": {},
   "outputs": [],
   "source": []
  }
 ],
 "metadata": {
  "kernelspec": {
   "display_name": "Python 3 (ipykernel)",
   "language": "python",
   "name": "python3"
  },
  "language_info": {
   "codemirror_mode": {
    "name": "ipython",
    "version": 3
   },
   "file_extension": ".py",
   "mimetype": "text/x-python",
   "name": "python",
   "nbconvert_exporter": "python",
   "pygments_lexer": "ipython3",
   "version": "3.11.3"
  }
 },
 "nbformat": 4,
 "nbformat_minor": 5
}
