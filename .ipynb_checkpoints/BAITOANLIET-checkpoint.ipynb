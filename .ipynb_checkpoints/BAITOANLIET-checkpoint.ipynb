{
 "cells": [
  {
   "cell_type": "markdown",
   "id": "db307451",
   "metadata": {},
   "source": [
    "### BAI1\n"
   ]
  },
  {
   "cell_type": "code",
   "execution_count": 16,
   "id": "fe03a83e",
   "metadata": {},
   "outputs": [
    {
     "name": "stdout",
     "output_type": "stream",
     "text": [
      "5\n",
      "3\n",
      "123\n",
      "124\n",
      "125\n",
      "134\n",
      "135\n",
      "145\n",
      "234\n",
      "235\n",
      "245\n",
      "345\n"
     ]
    }
   ],
   "source": [
    "from array import*\n",
    "a = array('i', [])\n",
    "n = int(input())\n",
    "k = int(input())\n",
    "for i in range(k):\n",
    "    a.append(i + 1)\n",
    "fl = k - 1\n",
    "while fl != -1 :\n",
    "    for h in range (k) :\n",
    "        print(a[h], end = '')\n",
    "    print('')\n",
    "    fl = k - 1\n",
    "    while fl > -1 and a[fl] == n - k + fl + 1: fl = fl - 1\n",
    "    if fl > -1 :\n",
    "        a[fl] = a[fl] + 1\n",
    "        for r in range(fl + 1, k):\n",
    "            a[r] = a[r - 1] + 1\n",
    "    "
   ]
  },
  {
   "cell_type": "markdown",
   "id": "0bc88d7f",
   "metadata": {},
   "source": [
    "### BAI 2\n"
   ]
  },
  {
   "cell_type": "code",
   "execution_count": 27,
   "id": "d3a016f7",
   "metadata": {},
   "outputs": [
    {
     "name": "stdout",
     "output_type": "stream",
     "text": [
      "3\n",
      "000\n",
      "111\n",
      "111\n",
      "111\n",
      "111\n",
      "111\n",
      "111\n",
      "111\n"
     ]
    }
   ],
   "source": [
    "b = array('i', [])\n",
    "z = int(input())\n",
    "for j in range (z):\n",
    "    b.append(0)\n",
    "u = z - 1\n",
    "while u != -1 :\n",
    "    for p in range (z):\n",
    "        print(b[u], end = '')\n",
    "    print('')\n",
    "    u = z - 1\n",
    "    while u > -1 and b[u] == 1 : u = u - 1\n",
    "    if u > -1 :\n",
    "        b[u] = 1\n",
    "        for t in range (u + 1, z):\n",
    "            b[t] = 0"
   ]
  },
  {
   "cell_type": "code",
   "execution_count": null,
   "id": "8070851a",
   "metadata": {},
   "outputs": [],
   "source": []
  }
 ],
 "metadata": {
  "kernelspec": {
   "display_name": "Python 3 (ipykernel)",
   "language": "python",
   "name": "python3"
  },
  "language_info": {
   "codemirror_mode": {
    "name": "ipython",
    "version": 3
   },
   "file_extension": ".py",
   "mimetype": "text/x-python",
   "name": "python",
   "nbconvert_exporter": "python",
   "pygments_lexer": "ipython3",
   "version": "3.11.3"
  }
 },
 "nbformat": 4,
 "nbformat_minor": 5
}
