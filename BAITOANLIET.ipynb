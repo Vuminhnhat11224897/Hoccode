{
 "cells": [
  {
   "cell_type": "markdown",
   "id": "691dd1b8",
   "metadata": {},
   "source": [
    "### BAI1\n"
   ]
  },
  {
   "cell_type": "code",
   "execution_count": 16,
   "id": "7c41e31e",
   "metadata": {},
   "outputs": [
    {
     "name": "stdout",
     "output_type": "stream",
     "text": [
      "5\n",
      "3\n",
      "123\n",
      "124\n",
      "125\n",
      "134\n",
      "135\n",
      "145\n",
      "234\n",
      "235\n",
      "245\n",
      "345\n"
     ]
    }
   ],
   "source": [
    "from array import*\n",
    "a = array('i', [])\n",
    "n = int(input())\n",
    "k = int(input())\n",
    "for i in range(k):\n",
    "    a.append(i + 1)\n",
    "fl = k - 1\n",
    "while fl != -1 :\n",
    "    for h in range (k) :\n",
    "        print(a[h], end = '')\n",
    "    print('')\n",
    "    fl = k - 1\n",
    "    while fl > -1 and a[fl] == n - k + fl + 1: fl = fl - 1\n",
    "    if fl > -1 :\n",
    "        a[fl] = a[fl] + 1\n",
    "        for r in range(fl + 1, k):\n",
    "            a[r] = a[r - 1] + 1\n",
    "    "
   ]
  },
  {
   "cell_type": "markdown",
   "id": "f95245ea",
   "metadata": {},
   "source": [
    "### BAI2\n"
   ]
  },
  {
   "cell_type": "code",
   "execution_count": 31,
   "id": "86ec5ea6",
   "metadata": {},
   "outputs": [
    {
     "name": "stdout",
     "output_type": "stream",
     "text": [
      "4\n",
      "0000\n",
      "0001\n",
      "0010\n",
      "0011\n",
      "0100\n",
      "0101\n",
      "0110\n",
      "0111\n",
      "1000\n",
      "1001\n",
      "1010\n",
      "1011\n",
      "1100\n",
      "1101\n",
      "1110\n",
      "1111\n"
     ]
    }
   ],
   "source": [
    "b = array('i', [])\n",
    "z = int(input())\n",
    "for j in range (z):\n",
    "    b.append(0)\n",
    "u = z - 1\n",
    "while u != -1 :\n",
    "    for p in range (z):\n",
    "        print(b[p], end = '')\n",
    "    print('')\n",
    "    u = z - 1\n",
    "    while u > -1 and b[u] == 1 : u = u - 1\n",
    "    if u > -1 :\n",
    "        b[u] = 1\n",
    "        for t in range (u + 1, z):\n",
    "            b[t] = 0"
   ]
  },
  {
   "cell_type": "markdown",
   "id": "d8596ec2",
   "metadata": {},
   "source": [
    "### BAI3\n"
   ]
  },
  {
   "cell_type": "code",
   "execution_count": null,
   "id": "e0c23d6c",
   "metadata": {},
   "outputs": [],
   "source": []
  }
 ],
 "metadata": {
  "kernelspec": {
   "display_name": "Python 3 (ipykernel)",
   "language": "python",
   "name": "python3"
  },
  "language_info": {
   "codemirror_mode": {
    "name": "ipython",
    "version": 3
   },
   "file_extension": ".py",
   "mimetype": "text/x-python",
   "name": "python",
   "nbconvert_exporter": "python",
   "pygments_lexer": "ipython3",
   "version": "3.11.3"
  }
 },
 "nbformat": 4,
 "nbformat_minor": 5
}
